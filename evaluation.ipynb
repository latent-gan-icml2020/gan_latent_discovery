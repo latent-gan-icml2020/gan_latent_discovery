{
 "cells": [
  {
   "cell_type": "code",
   "execution_count": null,
   "metadata": {},
   "outputs": [],
   "source": [
    "import torch\n",
    "from matplotlib import pyplot as plt\n",
    "from torchvision.utils import make_grid\n",
    "from torch_tools.visualization import to_image\n",
    "from visualization import interpolate\n",
    "from loading import load_from_dir\n",
    "%matplotlib inline\n",
    "\n",
    "rows = 8\n",
    "plt.figure(figsize=(5, rows), dpi=150)\n",
    "\n",
    "\n",
    "deformator, G, shift_predictor = load_from_dir('./models/pretrained/deformators/BigGAN/')\n",
    "discovered_annotation = ''\n",
    "for d in deformator.directions_dict.items():\n",
    "    discovered_annotation += '{}: {}\\n'.format(d[0], d[1])\n",
    "print('Interpretable directions:\\n' + discovered_annotation)\n",
    "\n",
    "inspection_dim = list(deformator.directions_dict.values())[0]\n",
    "\n",
    "\n",
    "zs = torch.randn([rows, G.dim_z] if type(G.dim_z) == int else [rows] + G.dim_z, device='cuda')\n",
    "\n",
    "\n",
    "for z, i in zip(zs, range(rows)):\n",
    "    interpolation_deformed = interpolate(\n",
    "        G, z.unsqueeze(0),\n",
    "        shifts_r=7,\n",
    "        shifts_count=3,\n",
    "        dim=inspection_dim,\n",
    "        deformator=deformator,\n",
    "        with_central_border=True)\n",
    "\n",
    "    plt.subplot(rows, 1, i + 1)\n",
    "    plt.axis('off')\n",
    "    grid = make_grid(interpolation_deformed, nrow=11, padding=1, pad_value=0.0)\n",
    "    grid = torch.clamp(grid, -1, 1)\n",
    "\n",
    "    plt.imshow(to_image(grid))"
   ]
  }
 ],
 "metadata": {
  "kernelspec": {
   "display_name": "Python 3",
   "language": "python",
   "name": "python3"
  },
  "language_info": {
   "codemirror_mode": {
    "name": "ipython",
    "version": 3
   },
   "file_extension": ".py",
   "mimetype": "text/x-python",
   "name": "python",
   "nbconvert_exporter": "python",
   "pygments_lexer": "ipython3",
   "version": "3.5.2"
  }
 },
 "nbformat": 4,
 "nbformat_minor": 2
}
